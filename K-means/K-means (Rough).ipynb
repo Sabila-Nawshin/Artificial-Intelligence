{
 "cells": [
  {
   "cell_type": "code",
   "execution_count": 1,
   "metadata": {},
   "outputs": [
    {
     "data": {
      "text/plain": [
       "<matplotlib.collections.PathCollection at 0x237d059d198>"
      ]
     },
     "execution_count": 1,
     "metadata": {},
     "output_type": "execute_result"
    },
    {
     "data": {
      "image/png": "[encoded data removed]",
      "text/plain": [
       "<Figure size 432x288 with 1 Axes>"
      ]
     },
     "metadata": {
      "needs_background": "light"
     },
     "output_type": "display_data"
    }
   ],
   "source": [
    "import pandas as pn\n",
    "import numpy as np\n",
    "import math\n",
    "import random as rand\n",
    "import matplotlib.pyplot as plt\n",
    "%matplotlib inline\n",
    "\n",
    "\n",
    "# Reading input\n",
    "data = pn.read_csv(\"clustering1.csv\", header=None)\n",
    "data = np.asarray(data)\n",
    "\n",
    "\n",
    "X = data[:,:data.shape[1]]\n",
    "\n",
    "\n",
    "\n",
    "# Plotting\n",
    "\n",
    "color = ['red']\n",
    "plt.scatter( X[:,0], X[:,1], c = color)"
   ]
  },
  {
   "cell_type": "code",
   "execution_count": 2,
   "metadata": {},
   "outputs": [],
   "source": [
    "# Euclidean Distance\n",
    "def dist(a, b):\n",
    "    \n",
    "    res = ((a[0] - b[0]) ** 2) + ((a[1] - b[1]) ** 2)\n",
    "    return math.sqrt (res)\n",
    "\n"
   ]
  },
  {
   "cell_type": "code",
   "execution_count": 3,
   "metadata": {},
   "outputs": [
    {
     "name": "stdout",
     "output_type": "stream",
     "text": [
      "------------------------- With Random ------------------------\n"
     ]
    },
    {
     "name": "stderr",
     "output_type": "stream",
     "text": [
      "C:\\ProgramData\\Anaconda3\\lib\\site-packages\\numpy\\core\\fromnumeric.py:2920: RuntimeWarning: Mean of empty slice.\n",
      "  out=out, **kwargs)\n",
      "C:\\ProgramData\\Anaconda3\\lib\\site-packages\\numpy\\core\\_methods.py:85: RuntimeWarning: invalid value encountered in double_scalars\n",
      "  ret = ret.dtype.type(ret / rcount)\n"
     ]
    },
    {
     "ename": "IndexError",
     "evalue": "too many indices for array",
     "output_type": "error",
     "traceback": [
      "\u001b[1;31m---------------------------------------------------------------------------\u001b[0m",
      "\u001b[1;31mIndexError\u001b[0m                                Traceback (most recent call last)",
      "\u001b[1;32m<ipython-input-3-66fb5e31cb2d>\u001b[0m in \u001b[0;36m<module>\u001b[1;34m()\u001b[0m\n\u001b[0;32m     82\u001b[0m     \u001b[1;32mfor\u001b[0m \u001b[0mi\u001b[0m \u001b[1;32min\u001b[0m \u001b[0mrange\u001b[0m\u001b[1;33m(\u001b[0m\u001b[0mk\u001b[0m\u001b[1;33m)\u001b[0m\u001b[1;33m:\u001b[0m\u001b[1;33m\u001b[0m\u001b[0m\n\u001b[0;32m     83\u001b[0m             \u001b[0mpoints\u001b[0m \u001b[1;33m=\u001b[0m \u001b[0mnp\u001b[0m\u001b[1;33m.\u001b[0m\u001b[0marray\u001b[0m\u001b[1;33m(\u001b[0m\u001b[1;33m[\u001b[0m\u001b[0mX\u001b[0m\u001b[1;33m[\u001b[0m\u001b[0mj\u001b[0m\u001b[1;33m]\u001b[0m \u001b[1;32mfor\u001b[0m \u001b[0mj\u001b[0m \u001b[1;32min\u001b[0m \u001b[0mrange\u001b[0m\u001b[1;33m(\u001b[0m\u001b[0mlen\u001b[0m\u001b[1;33m(\u001b[0m\u001b[0mX\u001b[0m\u001b[1;33m)\u001b[0m\u001b[1;33m)\u001b[0m \u001b[1;32mif\u001b[0m \u001b[0mclusters\u001b[0m\u001b[1;33m[\u001b[0m\u001b[0mj\u001b[0m\u001b[1;33m]\u001b[0m \u001b[1;33m==\u001b[0m \u001b[0mi\u001b[0m\u001b[1;33m]\u001b[0m\u001b[1;33m)\u001b[0m\u001b[1;33m\u001b[0m\u001b[0m\n\u001b[1;32m---> 84\u001b[1;33m             \u001b[0max\u001b[0m\u001b[1;33m.\u001b[0m\u001b[0mscatter\u001b[0m\u001b[1;33m(\u001b[0m\u001b[0mpoints\u001b[0m\u001b[1;33m[\u001b[0m\u001b[1;33m:\u001b[0m\u001b[1;33m,\u001b[0m \u001b[1;36m0\u001b[0m\u001b[1;33m]\u001b[0m\u001b[1;33m,\u001b[0m \u001b[0mpoints\u001b[0m\u001b[1;33m[\u001b[0m\u001b[1;33m:\u001b[0m\u001b[1;33m,\u001b[0m \u001b[1;36m1\u001b[0m\u001b[1;33m]\u001b[0m\u001b[1;33m,\u001b[0m \u001b[0ms\u001b[0m\u001b[1;33m=\u001b[0m\u001b[1;36m7\u001b[0m\u001b[1;33m,\u001b[0m \u001b[0mc\u001b[0m\u001b[1;33m=\u001b[0m\u001b[0mcolors\u001b[0m\u001b[1;33m[\u001b[0m\u001b[0mi\u001b[0m\u001b[1;33m]\u001b[0m\u001b[1;33m)\u001b[0m\u001b[1;33m\u001b[0m\u001b[0m\n\u001b[0m\u001b[0;32m     85\u001b[0m     \u001b[0max\u001b[0m\u001b[1;33m.\u001b[0m\u001b[0mscatter\u001b[0m\u001b[1;33m(\u001b[0m\u001b[0mC\u001b[0m\u001b[1;33m[\u001b[0m\u001b[1;33m:\u001b[0m\u001b[1;33m,\u001b[0m \u001b[1;36m0\u001b[0m\u001b[1;33m]\u001b[0m\u001b[1;33m,\u001b[0m \u001b[0mC\u001b[0m\u001b[1;33m[\u001b[0m\u001b[1;33m:\u001b[0m\u001b[1;33m,\u001b[0m \u001b[1;36m1\u001b[0m\u001b[1;33m]\u001b[0m\u001b[1;33m,\u001b[0m \u001b[0mmarker\u001b[0m\u001b[1;33m=\u001b[0m\u001b[1;34m'*'\u001b[0m\u001b[1;33m,\u001b[0m \u001b[0ms\u001b[0m\u001b[1;33m=\u001b[0m\u001b[1;36m200\u001b[0m\u001b[1;33m,\u001b[0m \u001b[0mc\u001b[0m\u001b[1;33m=\u001b[0m\u001b[1;34m'#050505'\u001b[0m\u001b[1;33m)\u001b[0m\u001b[1;33m\u001b[0m\u001b[0m\n\u001b[0;32m     86\u001b[0m \u001b[1;33m\u001b[0m\u001b[0m\n",
      "\u001b[1;31mIndexError\u001b[0m: too many indices for array"
     ]
    },
    {
     "data": {
      "image/png": "[encoded data removed]",
      "text/plain": [
       "<Figure size 432x288 with 1 Axes>"
      ]
     },
     "metadata": {
      "needs_background": "light"
     },
     "output_type": "display_data"
    },
    {
     "data": {
      "image/png": "[encoded data removed]",
      "text/plain": [
       "<Figure size 432x288 with 1 Axes>"
      ]
     },
     "metadata": {
      "needs_background": "light"
     },
     "output_type": "display_data"
    }
   ],
   "source": [
    "# K - means\n",
    "#def K_means(points, k):\n",
    "\n",
    "points = X\n",
    "k = 3\n",
    "\n",
    "f1 = points[:,0]\n",
    "f2 = points[:,1]\n",
    "points = np.array(list(zip(f1, f2)))\n",
    "\n",
    "    \n",
    "# Assigning random values\n",
    "C_x = np.random.randint(0, np.max(points), size = k)\n",
    "C_y = np.random.randint(0, np.max(points), size = k)\n",
    "\n",
    "C = np.array(list(zip(C_x, C_y)), dtype = np.float32)\n",
    "\n",
    "\n",
    "print (\"------------------------- With Random ------------------------\")\n",
    "# Plotting along with the Centroids\n",
    "plt.scatter(f1, f2, c='red')\n",
    "plt.scatter(C_x, C_y, marker='*', c='g')\n",
    "\n",
    "\n",
    "C_old = np.zeros(C.shape)\n",
    "    \n",
    "# Cluster Lables(0, 1, 2)\n",
    "clusters = np.zeros(len(points))\n",
    "    \n",
    "    \n",
    "# Error func. - Distance between new centroids and old centroids\n",
    "errorN = []\n",
    "for i in range (0, k):  \n",
    "    errori = dist(C[i], C_old[i])\n",
    "    errorN.insert(i, errori)\n",
    "\n",
    "error = sum(errorN)/k\n",
    "\n",
    "while error != 0:\n",
    "    \n",
    "    # Assigning each value to its closest cluster\n",
    "    for i in range(len(points)):\n",
    "\n",
    "        distanceN = []\n",
    "        for j in range (0, k):\n",
    "            distanceN.insert(j, dist(points[i], C[j]) )\n",
    "\n",
    "        MinDist = min(distanceN)\n",
    "        minIndex = 0\n",
    "\n",
    "        for j in range (0, k):\n",
    "            if distanceN[j] == MinDist:\n",
    "                minIndex = j\n",
    "\n",
    "\n",
    "        #clusters = the minimum distance between the three\n",
    "        clusters[i] = minIndex\n",
    "        #print (minIndex)\n",
    "        \n",
    "\n",
    "\n",
    "    C_old = C\n",
    "\n",
    "    # Finding the new centroids by taking the average value\n",
    "    for i in range(k):\n",
    "        points = [points[j] for j in range(len(points)) if clusters[j] == i]\n",
    "        C[i] = np.mean(points, axis=0)\n",
    "        \n",
    "    #print (clusters)\n",
    "\n",
    "\n",
    "    for i in range (0, k):  \n",
    "        errori = dist(C[i], C_old[i])\n",
    "        errorN.insert(i, errori)\n",
    "\n",
    "    error = sum(errorN)/k\n",
    "    \n",
    "\n",
    "    colors = ['r', 'g', 'b', 'y', 'c', 'm']\n",
    "    fig, ax = plt.subplots()\n",
    "    \n",
    "    for i in range(k):\n",
    "            points = np.array([X[j] for j in range(len(X)) if clusters[j] == i])\n",
    "            ax.scatter(points[:, 0], points[:, 1], s=7, c=colors[i])\n",
    "    ax.scatter(C[:, 0], C[:, 1], marker='*', s=200, c='#050505')\n",
    "\n",
    "\n"
   ]
  },
  {
   "cell_type": "code",
   "execution_count": 40,
   "metadata": {},
   "outputs": [
    {
     "name": "stdout",
     "output_type": "stream",
     "text": [
      "15.708667442179967\n",
      "9.651708182334886\n",
      "10.23955526990591\n",
      "1\n"
     ]
    }
   ],
   "source": [
    "distanceN = []\n",
    "\n",
    "for j in range (0, k):\n",
    "    distanceN.insert(j, dist(points[0], C[j]) )\n",
    "    print (distanceN[j])\n",
    "\n",
    "MinDist = min(distanceN)\n",
    "minIndex = 0\n",
    "\n",
    "for j in range (0, k):\n",
    "    if distanceN[j] == MinDist:\n",
    "        minIndex = j\n",
    "\n",
    "print (minIndex)"
   ]
  },
  {
   "cell_type": "code",
   "execution_count": null,
   "metadata": {},
   "outputs": [],
   "source": []
  }
 ],
 "metadata": {
  "kernelspec": {
   "display_name": "Python 3",
   "language": "python",
   "name": "python3"
  },
  "language_info": {
   "codemirror_mode": {
    "name": "ipython",
    "version": 3
   },
   "file_extension": ".py",
   "mimetype": "text/x-python",
   "name": "python",
   "nbconvert_exporter": "python",
   "pygments_lexer": "ipython3",
   "version": "3.7.0"
  }
 },
 "nbformat": 4,
 "nbformat_minor": 2
}
