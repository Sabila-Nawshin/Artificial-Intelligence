{
 "cells": [
  {
   "cell_type": "markdown",
   "metadata": {},
   "source": [
    "# Single Variable Linear Regression"
   ]
  },
  {
   "cell_type": "code",
   "execution_count": 1,
   "metadata": {},
   "outputs": [],
   "source": [
    "import pandas as pn\n",
    "data=pn.read_csv(\"linear.csv\", header=None)\n",
    "\n",
    "import numpy as np\n",
    "data=np.asarray(data)\n",
    "\n",
    "import math"
   ]
  },
  {
   "cell_type": "code",
   "execution_count": 2,
   "metadata": {},
   "outputs": [
    {
     "data": {
      "text/plain": [
       "array([[0.067732],\n",
       "       [0.42781 ],\n",
       "       [0.995731],\n",
       "       [0.738336],\n",
       "       [0.981083],\n",
       "       [0.526171],\n",
       "       [0.378887],\n",
       "       [0.033859],\n",
       "       [0.132791],\n",
       "       [0.138306],\n",
       "       [0.247809],\n",
       "       [0.64827 ],\n",
       "       [0.731209],\n",
       "       [0.236833],\n",
       "       [0.969788],\n",
       "       [0.607492],\n",
       "       [0.358622],\n",
       "       [0.147846],\n",
       "       [0.63782 ],\n",
       "       [0.230372],\n",
       "       [0.070237],\n",
       "       [0.067154],\n",
       "       [0.925577],\n",
       "       [0.717733],\n",
       "       [0.015371],\n",
       "       [0.33507 ],\n",
       "       [0.040486],\n",
       "       [0.212575],\n",
       "       [0.617218],\n",
       "       [0.541196],\n",
       "       [0.045353],\n",
       "       [0.126762],\n",
       "       [0.556486],\n",
       "       [0.901144],\n",
       "       [0.958476],\n",
       "       [0.274561],\n",
       "       [0.394396],\n",
       "       [0.87248 ],\n",
       "       [0.409932],\n",
       "       [0.908969],\n",
       "       [0.166819],\n",
       "       [0.665016],\n",
       "       [0.263727],\n",
       "       [0.231214],\n",
       "       [0.552928],\n",
       "       [0.047744],\n",
       "       [0.365746],\n",
       "       [0.495002],\n",
       "       [0.493466],\n",
       "       [0.792101],\n",
       "       [0.76966 ],\n",
       "       [0.251821],\n",
       "       [0.181951],\n",
       "       [0.808177],\n",
       "       [0.334116],\n",
       "       [0.33863 ],\n",
       "       [0.452584],\n",
       "       [0.69477 ],\n",
       "       [0.590902],\n",
       "       [0.307928],\n",
       "       [0.148364],\n",
       "       [0.70218 ],\n",
       "       [0.721544],\n",
       "       [0.666886],\n",
       "       [0.124931],\n",
       "       [0.618286],\n",
       "       [0.381086],\n",
       "       [0.385643],\n",
       "       [0.777175],\n",
       "       [0.116089],\n",
       "       [0.115487],\n",
       "       [0.66351 ],\n",
       "       [0.254884],\n",
       "       [0.993888],\n",
       "       [0.295434],\n",
       "       [0.952523],\n",
       "       [0.307047],\n",
       "       [0.277261],\n",
       "       [0.279101],\n",
       "       [0.175724],\n",
       "       [0.156383],\n",
       "       [0.733165],\n",
       "       [0.848142],\n",
       "       [0.771184],\n",
       "       [0.429492],\n",
       "       [0.162176],\n",
       "       [0.917064],\n",
       "       [0.315044],\n",
       "       [0.201473],\n",
       "       [0.297038],\n",
       "       [0.336647],\n",
       "       [0.666109],\n",
       "       [0.583888],\n",
       "       [0.085031],\n",
       "       [0.687006],\n",
       "       [0.949655],\n",
       "       [0.189912],\n",
       "       [0.844027],\n",
       "       [0.333288],\n",
       "       [0.427035],\n",
       "       [0.466369],\n",
       "       [0.550659],\n",
       "       [0.278213],\n",
       "       [0.918769],\n",
       "       [0.886555],\n",
       "       [0.569488],\n",
       "       [0.066379],\n",
       "       [0.335751],\n",
       "       [0.426863],\n",
       "       [0.395746],\n",
       "       [0.694221],\n",
       "       [0.27276 ],\n",
       "       [0.503495],\n",
       "       [0.067119],\n",
       "       [0.038326],\n",
       "       [0.599122],\n",
       "       [0.947054],\n",
       "       [0.671279],\n",
       "       [0.434811],\n",
       "       [0.509381],\n",
       "       [0.749442],\n",
       "       [0.058014],\n",
       "       [0.482978],\n",
       "       [0.466776],\n",
       "       [0.357767],\n",
       "       [0.949123],\n",
       "       [0.41732 ],\n",
       "       [0.920461],\n",
       "       [0.156433],\n",
       "       [0.656662],\n",
       "       [0.616418],\n",
       "       [0.853428],\n",
       "       [0.133295],\n",
       "       [0.693007],\n",
       "       [0.178449],\n",
       "       [0.199526],\n",
       "       [0.073224],\n",
       "       [0.286515],\n",
       "       [0.182026],\n",
       "       [0.621523],\n",
       "       [0.344584],\n",
       "       [0.398556],\n",
       "       [0.480369],\n",
       "       [0.15335 ],\n",
       "       [0.171846],\n",
       "       [0.867082],\n",
       "       [0.223855],\n",
       "       [0.528301],\n",
       "       [0.890192],\n",
       "       [0.106352],\n",
       "       [0.917886],\n",
       "       [0.014855],\n",
       "       [0.567682],\n",
       "       [0.068854],\n",
       "       [0.603535],\n",
       "       [0.53205 ],\n",
       "       [0.651362],\n",
       "       [0.901225],\n",
       "       [0.204337],\n",
       "       [0.696081],\n",
       "       [0.963924],\n",
       "       [0.98139 ],\n",
       "       [0.987911],\n",
       "       [0.990947],\n",
       "       [0.736021],\n",
       "       [0.253574],\n",
       "       [0.674722],\n",
       "       [0.939368],\n",
       "       [0.235419],\n",
       "       [0.110521],\n",
       "       [0.218023],\n",
       "       [0.869778],\n",
       "       [0.19683 ],\n",
       "       [0.958178],\n",
       "       [0.972673],\n",
       "       [0.745797],\n",
       "       [0.445674],\n",
       "       [0.470557],\n",
       "       [0.549236],\n",
       "       [0.335691],\n",
       "       [0.884739],\n",
       "       [0.918916],\n",
       "       [0.441815],\n",
       "       [0.116598],\n",
       "       [0.359274],\n",
       "       [0.814811],\n",
       "       [0.387125],\n",
       "       [0.982243],\n",
       "       [0.78088 ],\n",
       "       [0.652565],\n",
       "       [0.87003 ],\n",
       "       [0.604755],\n",
       "       [0.255212],\n",
       "       [0.730546],\n",
       "       [0.493829],\n",
       "       [0.257017],\n",
       "       [0.833735],\n",
       "       [0.070095],\n",
       "       [0.52707 ],\n",
       "       [0.116163]])"
      ]
     },
     "execution_count": 2,
     "metadata": {},
     "output_type": "execute_result"
    }
   ],
   "source": [
    "X= data[:,:data.shape[1]-1]\n",
    "X"
   ]
  },
  {
   "cell_type": "code",
   "execution_count": 3,
   "metadata": {},
   "outputs": [],
   "source": [
    "y= data[:,-1:] "
   ]
  },
  {
   "cell_type": "code",
   "execution_count": 4,
   "metadata": {},
   "outputs": [
    {
     "data": {
      "text/plain": [
       "<matplotlib.collections.PathCollection at 0x27e7fe2acc0>"
      ]
     },
     "execution_count": 4,
     "metadata": {},
     "output_type": "execute_result"
    },
    {
     "data": {
      "image/png": "[encoded data removed]",
      "text/plain": [
       "<Figure size 432x288 with 1 Axes>"
      ]
     },
     "metadata": {
      "needs_background": "light"
     },
     "output_type": "display_data"
    }
   ],
   "source": [
    "import matplotlib.pyplot as plt\n",
    "%matplotlib inline\n",
    "\n",
    "\n",
    "color=['blue' for c in y]\n",
    "\n",
    "plt.scatter(X[:,:1],y[:,:1],c=color)\n",
    "#plt.scatter(test_X[:,:1],test_X[:,1:], c = 'black')"
   ]
  },
  {
   "cell_type": "code",
   "execution_count": 85,
   "metadata": {},
   "outputs": [],
   "source": [
    "import random\n",
    "\n",
    "#Linear regression with gradient descent - single variable\n",
    "def gradient_descent(X, y, w0_current, w1_current, maxIter):\n",
    "    alpha = 0.0001\n",
    "    #error = 1\n",
    "    J = []\n",
    "    Iter = []\n",
    "    N = len(y)\n",
    "    \n",
    "    for i in range(maxIter):\n",
    "        y_current = w0_current + (w1_current * X)\n",
    "        cost = (y - y_current)\n",
    "        \n",
    "        \n",
    "        #################   for plotting Error function - J #######################\n",
    "        J.insert(i, sum(cost)/N)\n",
    "        Iter.insert(i, i)\n",
    "        ##########################################################\n",
    "        \n",
    "        \n",
    "        w0_gradient = (-1) * sum(cost)\n",
    "        w1_gradient = (-1) * sum(X * cost)\n",
    "        \n",
    "        w0_current = w0_current - (alpha * w0_gradient)\n",
    "        w1_current = w1_current - (alpha * w1_gradient)\n",
    "\n",
    "    \n",
    "    return [w0_current, w1_current, J,  Iter]\n"
   ]
  },
  {
   "cell_type": "code",
   "execution_count": 86,
   "metadata": {},
   "outputs": [
    {
     "data": {
      "text/plain": [
       "[<matplotlib.lines.Line2D at 0x27e01ede0b8>]"
      ]
     },
     "execution_count": 86,
     "metadata": {},
     "output_type": "execute_result"
    },
    {
     "data": {
      "image/png": "[encoded data removed]",
      "text/plain": [
       "<Figure size 432x288 with 1 Axes>"
      ]
     },
     "metadata": {
      "needs_background": "light"
     },
     "output_type": "display_data"
    }
   ],
   "source": [
    "maxIter = 1000\n",
    "res = linear_regression(X, y, random.random(), random.random(), maxIter)\n",
    "w0 = res[0]\n",
    "w1 = res[1]\n",
    "\n",
    "#plotting the line in graph\n",
    "y_function = w0 + (w1 * X)\n",
    "plt.scatter(X[:,:1],y[:,:1],c=color)\n",
    "plt.plot(X, y_function, color = 'red')\n",
    "\n"
   ]
  },
  {
   "cell_type": "code",
   "execution_count": 90,
   "metadata": {},
   "outputs": [
    {
     "data": {
      "text/plain": [
       "Text(0,0.5,'Error function')"
      ]
     },
     "execution_count": 90,
     "metadata": {},
     "output_type": "execute_result"
    },
    {
     "data": {
      "image/png": "[encoded data removed]",
      "text/plain": [
       "<Figure size 432x288 with 1 Axes>"
      ]
     },
     "metadata": {
      "needs_background": "light"
     },
     "output_type": "display_data"
    }
   ],
   "source": [
    "#plotting J against iterations\n",
    "J = res[2]\n",
    "Iter = res[3]\n",
    "\n",
    "plt.scatter (Iter, J, color = 'red')\n",
    "plt.xlabel (\"Iteration\")\n",
    "plt.ylabel (\"Error function\")"
   ]
  },
  {
   "cell_type": "markdown",
   "metadata": {},
   "source": [
    "# For multivariable"
   ]
  },
  {
   "cell_type": "code",
   "execution_count": 97,
   "metadata": {},
   "outputs": [],
   "source": [
    "import pandas as pn\n",
    "data=pn.read_csv(\"MLinear.csv\", header=None)\n",
    "\n",
    "import numpy as np\n",
    "data=np.asarray(data)\n",
    "\n",
    "import math\n",
    "X= data[:,:data.shape[1]-1]\n",
    "y= data[:,-1:] "
   ]
  },
  {
   "cell_type": "code",
   "execution_count": 109,
   "metadata": {},
   "outputs": [],
   "source": [
    "import random\n",
    "\n",
    "#Linear regression with gradient descent for multivariable\n",
    "def m_gradient_descent(X, y,base, w, maxIter):\n",
    "    alpha = 0.0001\n",
    "    gradient = []\n",
    "    N  = len(y)\n",
    "    \n",
    "    \n",
    "    ############  for plotting error function #################\n",
    "    J = []\n",
    "    Iter = []\n",
    "    ###########################################################\n",
    "    \n",
    "    \n",
    "    for i in range(maxIter):\n",
    "        \n",
    "        #base = w0, w = rest of the w's. Calculating predicted y\n",
    "        y_current = base\n",
    "        for j in range (0,len(w)):\n",
    "            y_current = y_current + (X[ : ,[j]] * w[j]);\n",
    "        \n",
    "        #cost function\n",
    "        cost = (y - y_current)\n",
    "        \n",
    "        \n",
    "        \n",
    "        ################   for plotting error function's value with each iteration #############\n",
    "        J.insert(i, sum(cost)/N)\n",
    "        Iter.insert(i, i)\n",
    "        ########################################################################################\n",
    "        \n",
    "        \n",
    "        \n",
    "        #calculating gradients\n",
    "        gradient_base = (-1) * sum(cost)\n",
    "        for j in range (0,len(w)):\n",
    "            gradient.insert(j,  ((-1) * sum(X[ : ,[j]] * cost)) )\n",
    "            \n",
    "        \n",
    "        #claculating w's\n",
    "        base = base - (alpha * gradient_base)\n",
    "        for j in range (0,len(w)):\n",
    "            w[j] = w[j] - (alpha * gradient[j])\n",
    "            \n",
    "        \n",
    "    some = [w, J,  Iter]\n",
    "    \n",
    "    return some"
   ]
  },
  {
   "cell_type": "code",
   "execution_count": 111,
   "metadata": {},
   "outputs": [
    {
     "name": "stdout",
     "output_type": "stream",
     "text": [
      "2\n"
     ]
    },
    {
     "data": {
      "text/plain": [
       "Text(0,0.5,'Error function')"
      ]
     },
     "execution_count": 111,
     "metadata": {},
     "output_type": "execute_result"
    },
    {
     "data": {
      "image/png": "[encoded data removed]",
      "text/plain": [
       "<Figure size 432x288 with 1 Axes>"
      ]
     },
     "metadata": {
      "needs_background": "light"
     },
     "output_type": "display_data"
    }
   ],
   "source": [
    "w = []\n",
    "print(X.shape[1])\n",
    "\n",
    "for j in range (0,X.shape[1]):\n",
    "    w.insert(j, 0.1)\n",
    "    \n",
    "base = 0.1\n",
    "\n",
    "res = m_gradient_descent(X, y, base, w, 1000)\n",
    "J = res[1]\n",
    "Iter = res[2]\n",
    "\n",
    "plt.scatter (Iter, J, color = 'red')\n",
    "plt.xlabel (\"Iteration\")\n",
    "plt.ylabel (\"Error function\")\n"
   ]
  },
  {
   "cell_type": "code",
   "execution_count": null,
   "metadata": {},
   "outputs": [],
   "source": []
  }
 ],
 "metadata": {
  "kernelspec": {
   "display_name": "Python 3",
   "language": "python",
   "name": "python3"
  },
  "language_info": {
   "codemirror_mode": {
    "name": "ipython",
    "version": 3
   },
   "file_extension": ".py",
   "mimetype": "text/x-python",
   "name": "python",
   "nbconvert_exporter": "python",
   "pygments_lexer": "ipython3",
   "version": "3.7.0"
  }
 },
 "nbformat": 4,
 "nbformat_minor": 2
}
