{
 "cells": [
  {
   "cell_type": "markdown",
   "metadata": {},
   "source": [
    "Print function and variables"
   ]
  },
  {
   "cell_type": "code",
   "execution_count": null,
   "metadata": {},
   "outputs": [],
   "source": [
    "x = 'Hello world'\n",
    "print ('Hello world')\n",
    "print (x)"
   ]
  },
  {
   "cell_type": "markdown",
   "metadata": {},
   "source": [
    "type funtion and different types"
   ]
  },
  {
   "cell_type": "code",
   "execution_count": 91,
   "metadata": {},
   "outputs": [
    {
     "name": "stdout",
     "output_type": "stream",
     "text": [
      "a\n"
     ]
    }
   ],
   "source": [
    "x = 5\n",
    "y = 'abd'\n",
    "z = True\n",
    "\n",
    "type(x)\n",
    "type(y)\n",
    "type(z)\n",
    "\n",
    "x = 'ansfdsd'\n",
    "print(x[0])"
   ]
  },
  {
   "cell_type": "markdown",
   "metadata": {},
   "source": [
    "List and stuff"
   ]
  },
  {
   "cell_type": "code",
   "execution_count": 44,
   "metadata": {},
   "outputs": [],
   "source": [
    "alist = [1,2,'ab',4]\n",
    "print(alist[2])\n",
    "type(alist[2])"
   ]
  },
  {
   "cell_type": "markdown",
   "metadata": {},
   "source": [
    "Range duntion and more of list"
   ]
  },
  {
   "cell_type": "code",
   "execution_count": 59,
   "metadata": {},
   "outputs": [
    {
     "data": {
      "text/plain": [
       "range(0, 10)"
      ]
     },
     "execution_count": 59,
     "metadata": {},
     "output_type": "execute_result"
    }
   ],
   "source": [
    "range (10)\n",
    "\n",
    "alist = [x for x in range(10,20)]\n",
    "print(alist)\n",
    "\n",
    "\n",
    "  "
   ]
  },
  {
   "cell_type": "markdown",
   "metadata": {},
   "source": [
    "insert funtion and sublist"
   ]
  },
  {
   "cell_type": "code",
   "execution_count": 94,
   "metadata": {},
   "outputs": [
    {
     "name": "stdout",
     "output_type": "stream",
     "text": [
      "[3, 4, 5, 6]\n"
     ]
    }
   ],
   "source": [
    "s = alist[2:6]\n",
    "print(s)\n",
    "\n",
    "s.insert (2, 'r')\n",
    "print(s)"
   ]
  },
  {
   "cell_type": "markdown",
   "metadata": {},
   "source": [
    "List within list"
   ]
  },
  {
   "cell_type": "code",
   "execution_count": 95,
   "metadata": {},
   "outputs": [
    {
     "name": "stdout",
     "output_type": "stream",
     "text": [
      "[1, 2, [2, 3, [2, 3, ['a', 'b', 's']], 5, 3], 4, 5, 6, 7, 8, 9, 10]\n",
      "[2, 3, [2, 3, ['a', 'b', 's']], 5, 3]\n",
      "[2, 3, ['a', 'b', 's']]\n",
      "['a', 'b', 's']\n"
     ]
    }
   ],
   "source": [
    "alist[2] = [2, 3, 4, 5, 3]\n",
    "alist[2][2] = [2, 3, 4]\n",
    "alist[2][2][2] = ['a','b','s']\n",
    "\n",
    "print(alist)\n",
    "print(alist[2])\n",
    "print(alist[2][2])\n",
    "print(alist[2][2][2])\n"
   ]
  },
  {
   "cell_type": "raw",
   "metadata": {},
   "source": [
    "arithmetic operations, concatanation"
   ]
  },
  {
   "cell_type": "code",
   "execution_count": 100,
   "metadata": {},
   "outputs": [
    {
     "name": "stdout",
     "output_type": "stream",
     "text": [
      "['a', 'b', 'c', 2, 4, 5]\n",
      "7\n",
      "0.75\n"
     ]
    }
   ],
   "source": [
    "alist = ['a', 'b', 'c']\n",
    "anotherlist = [2, 4, 5]\n",
    "x = alist + anotherlist\n",
    "\n",
    "print(x)\n",
    "\n",
    "alist = 3\n",
    "anotherlist = 4\n",
    "\n",
    "print (alist + anotherlist)\n",
    "print (alist/anotherlist)"
   ]
  },
  {
   "cell_type": "markdown",
   "metadata": {},
   "source": [
    "if else staement"
   ]
  },
  {
   "cell_type": "code",
   "execution_count": 103,
   "metadata": {},
   "outputs": [
    {
     "name": "stdout",
     "output_type": "stream",
     "text": [
      "4 is greater\n",
      "3 is odd\n"
     ]
    }
   ],
   "source": [
    "x = 3\n",
    "y = 4\n",
    "\n",
    "if x > y:\n",
    "    print(x , 'is greater')\n",
    "else:\n",
    "    print(y , 'is greater')\n",
    "    \n",
    "\n",
    "if x % 2 == 0:\n",
    "    print(x , 'is even')\n",
    "else:\n",
    "    print(x , 'is odd')\n"
   ]
  },
  {
   "cell_type": "markdown",
   "metadata": {},
   "source": [
    "Loops and printing\n",
    "\n",
    "end = \"something\" defines what will be printed at the end of output produced by print. By default it's end line"
   ]
  },
  {
   "cell_type": "code",
   "execution_count": 109,
   "metadata": {},
   "outputs": [
    {
     "name": "stdout",
     "output_type": "stream",
     "text": [
      "12 11 10 9 8 7 6 5 4 3 2 1 \n",
      "2 3 4 5 6 7 \n",
      "0 1 2 3 4 5 6 7 8 9 \n"
     ]
    }
   ],
   "source": [
    "x = 12\n",
    "alist = [2, 3, 4, 5, 6, 7]\n",
    "\n",
    "while x > 0:\n",
    "    print(x, end = ' ')\n",
    "    x = x - 1\n",
    "print();\n",
    "\n",
    "for x in alist:\n",
    "    print (x, end = ' ')\n",
    "print();\n",
    "    \n",
    "for x in range(0,10):\n",
    "    print (x, end = ' ')\n",
    "print();\n"
   ]
  },
  {
   "cell_type": "markdown",
   "metadata": {},
   "source": [
    "Importing libraries"
   ]
  },
  {
   "cell_type": "code",
   "execution_count": 135,
   "metadata": {},
   "outputs": [
    {
     "name": "stdout",
     "output_type": "stream",
     "text": [
      "2.23606797749979\n",
      "0.790622847350134\n",
      "6\n"
     ]
    }
   ],
   "source": [
    "import math\n",
    "print(math.sqrt(5))\n",
    "\n",
    "import random\n",
    "print(random.random())\n",
    "print(random.randrange(1,10))"
   ]
  },
  {
   "cell_type": "markdown",
   "metadata": {},
   "source": [
    "Own funtions :- \n",
    "\n",
    "def funtion_name(var_1, var_2...... var_3):\n",
    "    lines...........\n",
    "    ................\n",
    "    ................"
   ]
  },
  {
   "cell_type": "code",
   "execution_count": 115,
   "metadata": {},
   "outputs": [
    {
     "data": {
      "text/plain": [
       "True"
      ]
     },
     "execution_count": 115,
     "metadata": {},
     "output_type": "execute_result"
    }
   ],
   "source": [
    "def isPrime (x):\n",
    "    if x == 0 or x == 1:\n",
    "        return False\n",
    "    \n",
    "    \n",
    "    for i in range (2, int(math.sqrt(x))):\n",
    "        if x % i == 0:\n",
    "            return False\n",
    "        \n",
    "    return True\n",
    "\n",
    "isPrime(13)"
   ]
  },
  {
   "cell_type": "markdown",
   "metadata": {},
   "source": [
    "Function within function"
   ]
  },
  {
   "cell_type": "code",
   "execution_count": 118,
   "metadata": {},
   "outputs": [
    {
     "name": "stdout",
     "output_type": "stream",
     "text": [
      "False\n",
      "3.0\n"
     ]
    }
   ],
   "source": [
    "def callMe(someFunction, n):\n",
    "    return someFunction(n)\n",
    "\n",
    "print (callMe(isPrime, 100))\n",
    "print (callMe(math.sqrt, 9))"
   ]
  },
  {
   "cell_type": "markdown",
   "metadata": {},
   "source": [
    "Dictionary - for searchs - Basically a hash table [not ordered, no indexing]\n",
    "\n",
    "    key   -   value\n",
    "     ^          ^\n",
    "     |          |\n",
    "     |          |\n",
    "   word       meaning"
   ]
  },
  {
   "cell_type": "code",
   "execution_count": 128,
   "metadata": {},
   "outputs": [
    {
     "name": "stdout",
     "output_type": "stream",
     "text": [
      "{}\n",
      "{'Dhaka': 0, 'Chittagong': 34, 'Cox': 255}\n"
     ]
    }
   ],
   "source": [
    "dict = {}\n",
    "print(dict)\n",
    "\n",
    "dict[\"Dhaka\"] = 0\n",
    "dict[\"Chittagong\"] = 34\n",
    "dict[\"Cox\"] = 255\n",
    "print(dict)\n",
    "\n"
   ]
  },
  {
   "cell_type": "markdown",
   "metadata": {},
   "source": [
    "Dictonary within list and vice-versa"
   ]
  },
  {
   "cell_type": "code",
   "execution_count": 137,
   "metadata": {},
   "outputs": [
    {
     "name": "stdout",
     "output_type": "stream",
     "text": [
      "[1, 2, 3, {'Dhaka': 0, 'Chittagong': 34, 'Cox': 255}]\n"
     ]
    }
   ],
   "source": [
    "alist = [1, 2, 3, dict]\n",
    "print(alist)\n",
    "\n",
    "alist = [1, 2, 3]\n",
    "dict"
   ]
  },
  {
   "cell_type": "code",
   "execution_count": null,
   "metadata": {},
   "outputs": [],
   "source": []
  }
 ],
 "metadata": {
  "kernelspec": {
   "display_name": "Python 3",
   "language": "python",
   "name": "python3"
  },
  "language_info": {
   "codemirror_mode": {
    "name": "ipython",
    "version": 3
   },
   "file_extension": ".py",
   "mimetype": "text/x-python",
   "name": "python",
   "nbconvert_exporter": "python",
   "pygments_lexer": "ipython3",
   "version": "3.7.0"
  }
 },
 "nbformat": 4,
 "nbformat_minor": 2
}
