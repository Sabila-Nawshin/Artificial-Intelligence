{
 "cells": [
  {
   "cell_type": "markdown",
   "metadata": {},
   "source": [
    "Classwork\n",
    "\n",
    "Write a function called Task1 that will take 200 random points that is within a box with corners  (100, 100), (100, -100), (-100, -100), (-100, 100)\n",
    "\n",
    "x = [-100..........100]\n",
    "y = [-100..........100]\n"
   ]
  },
  {
   "cell_type": "code",
   "execution_count": 33,
   "metadata": {},
   "outputs": [],
   "source": [
    "import random\n",
    "import math\n",
    "\n",
    "x = random.sample(range(-100, 101), 100)\n",
    "y = random.sample(range(-100, 101), 100)\n"
   ]
  },
  {
   "cell_type": "markdown",
   "metadata": {},
   "source": [
    "Then create another parallel list L(100) = {'G', 'B'}\n",
    "\n"
   ]
  },
  {
   "cell_type": "code",
   "execution_count": 34,
   "metadata": {},
   "outputs": [
    {
     "name": "stdout",
     "output_type": "stream",
     "text": [
      "['G', 'G', 'G', 'G', 'G', 'G', 'G', 'G', 'G', 'G', 'G', 'G', 'G', 'G', 'G', 'G', 'G', 'G', 'G', 'G', 'G', 'G', 'G', 'G', 'G', 'G', 'G', 'G', 'G', 'G', 'G', 'G', 'G', 'G', 'G', 'G', 'G', 'G', 'G', 'G', 'G', 'G', 'G', 'G', 'G', 'G', 'G', 'G', 'G', 'G', 'B', 'B', 'B', 'B', 'B', 'B', 'B', 'B', 'B', 'B', 'B', 'B', 'B', 'B', 'B', 'B', 'B', 'B', 'B', 'B', 'B', 'B', 'B', 'B', 'B', 'B', 'B', 'B', 'B', 'B', 'B', 'B', 'B', 'B', 'B', 'B', 'B', 'B', 'B', 'B', 'B', 'B', 'B', 'B', 'B', 'B', 'B', 'B', 'B', 'B']\n"
     ]
    }
   ],
   "source": [
    "L = []\n",
    "\n",
    "for i in range(0,50):\n",
    "    L.insert(i, 'G')\n",
    "    \n",
    "for i in range(50,100):\n",
    "    L.insert(i, 'B')\n",
    "\n",
    "print(L)"
   ]
  },
  {
   "cell_type": "markdown",
   "metadata": {},
   "source": [
    "Then take a random point x and y and find it's nearest 5 points and see if it's good or bad\n"
   ]
  },
  {
   "cell_type": "code",
   "execution_count": 35,
   "metadata": {},
   "outputs": [],
   "source": [
    "def cmp_to_key(mycmp):\n",
    "    'Convert a cmp= function into a key= function'\n",
    "    class K(object):\n",
    "        def __init__(self, obj, *args):\n",
    "            self.obj = obj\n",
    "        def __lt__(self, other):\n",
    "            return mycmp(self.obj, other.obj) < 0\n",
    "        def __gt__(self, other):\n",
    "            return mycmp(self.obj, other.obj) > 0\n",
    "        def __eq__(self, other):\n",
    "            return mycmp(self.obj, other.obj) == 0\n",
    "        def __le__(self, other):\n",
    "            return mycmp(self.obj, other.obj) <= 0  \n",
    "        def __ge__(self, other):\n",
    "            return mycmp(self.obj, other.obj) >= 0\n",
    "        def __ne__(self, other):\n",
    "            return mycmp(self.obj, other.obj) != 0\n",
    "    return K"
   ]
  },
  {
   "cell_type": "code",
   "execution_count": 36,
   "metadata": {},
   "outputs": [
    {
     "name": "stdout",
     "output_type": "stream",
     "text": [
      "[[57, 0.0], [53, 9.433981132056603], [49, 22.47220505424423], [9, 25.942243542145693], [73, 31.622776601683793], [72, 37.656340767525464], [82, 38.91015291668744], [8, 40.19950248448356], [14, 41.10960958218893], [63, 44.68780594300866], [2, 47.07440918375928], [98, 50.24937810560445], [52, 51.15662224971465], [43, 52.20153254455275], [91, 52.952809179494906], [74, 58.077534382926416], [75, 65.85590330410783], [81, 66.007575322837], [12, 66.37017402418047], [61, 76.89603370785778], [20, 79.55501241279521], [55, 81.49233092751734], [39, 82.73451516749222], [7, 83.72574275573791], [11, 86.68333173107735], [79, 87.96590248499699], [19, 88.10221336606703], [5, 91.0823802938856], [10, 91.35097153287424], [36, 92.44457799135652], [42, 95.63472172804185], [99, 101.82828683622247], [67, 103.40696301506973], [93, 105.152270541344], [59, 107.20074626605917], [51, 107.93516572461452], [70, 110.45361017187261], [27, 112.78741064498288], [54, 113.21660655575224], [76, 114.84337159801605], [97, 115.44695751729449], [13, 129.3560976529518], [87, 131.73458164050928], [22, 132.21951444472938], [48, 133.4541119636259], [32, 134.72935834479432], [65, 136.03308421115798], [47, 136.82105101189657], [29, 136.88316185711082], [0, 137.08391590555036], [71, 138.32208789632983], [34, 138.51353724455961], [23, 138.82723075823418], [3, 139.54210834009928], [33, 140.73023839957068], [31, 143.26548781894402], [84, 144.40221604947757], [50, 145.2067491544384], [90, 145.49914089093448], [25, 146.27713423498562], [28, 146.81961721786362], [60, 147.09180806557515], [94, 147.35331689514152], [69, 148.00337833982033], [17, 149.9333185119305], [58, 150.00333329629711], [44, 152.6106156202772], [30, 156.52475842498527], [80, 159.02201105507376], [77, 161.40012391568973], [45, 163.6154026979123], [38, 166.37307474468338], [64, 168.7601848778319], [56, 170.98830369355676], [40, 173.0028901492689], [1, 173.11845655504212], [18, 176.1817243643619], [4, 176.555940143627], [68, 180.23595645708434], [6, 180.7097119692243], [16, 182.0988742414406], [95, 182.5267103741258], [35, 183.3930205869351], [37, 184.61852561430555], [78, 185.6906028855526], [15, 185.80096878111266], [24, 187.29655629509048], [62, 187.6006396577581], [85, 190.9659655540746], [86, 191.3243319601561], [89, 192.62658175859323], [26, 193.08029417835473], [96, 195.2434377898525], [83, 197.8534811419804], [41, 202.41047403728888], [21, 204.37710243566914], [88, 205.5164227014474], [66, 209.15305400591214], [92, 212.6240814207083], [46, 214.39449619801343]]\n"
     ]
    }
   ],
   "source": [
    "index = random.randrange(0,100)\n",
    "Dis = []\n",
    "\n",
    "for i in range (0, 100):\n",
    "    distance = math.sqrt( ((x[i] - x[index])*(x[i] - x[index])) + ((y[i] - y[index])*(y[i] - y[index])) );\n",
    "    some = [i, distance]\n",
    "    Dis.insert(i, some)\n",
    "    \n",
    "\n",
    "def greater(a,b):\n",
    "    if (a[1] > b[1]):\n",
    "        return 1\n",
    "    return -1\n",
    "    \n",
    "Dis.sort(key = cmp_to_key(greater))\n",
    "print(Dis)\n",
    "    \n",
    "\n",
    "\n"
   ]
  },
  {
   "cell_type": "markdown",
   "metadata": {},
   "source": [
    "Then if most among the nearest neighbour is good, we'll say our point has a good chance of being good. Else bad."
   ]
  },
  {
   "cell_type": "code",
   "execution_count": 37,
   "metadata": {},
   "outputs": [
    {
     "name": "stdout",
     "output_type": "stream",
     "text": [
      "Bad\n"
     ]
    }
   ],
   "source": [
    "cnt = 0;\n",
    "for i in range (0, 5):\n",
    "    if (L[Dis[i][0]] == 'G'):\n",
    "        cnt = cnt + 1\n",
    "\n",
    "if(cnt >= 3):\n",
    "    print(\"Good\");\n",
    "    \n",
    "else:\n",
    "    print(\"Bad\");"
   ]
  },
  {
   "cell_type": "code",
   "execution_count": null,
   "metadata": {},
   "outputs": [],
   "source": []
  }
 ],
 "metadata": {
  "kernelspec": {
   "display_name": "Python 3",
   "language": "python",
   "name": "python3"
  },
  "language_info": {
   "codemirror_mode": {
    "name": "ipython",
    "version": 3
   },
   "file_extension": ".py",
   "mimetype": "text/x-python",
   "name": "python",
   "nbconvert_exporter": "python",
   "pygments_lexer": "ipython3",
   "version": "3.7.0"
  }
 },
 "nbformat": 4,
 "nbformat_minor": 2
}
