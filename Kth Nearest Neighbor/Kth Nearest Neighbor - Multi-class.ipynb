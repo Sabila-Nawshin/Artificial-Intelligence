{
 "cells": [
  {
   "cell_type": "code",
   "execution_count": 1,
   "metadata": {},
   "outputs": [
    {
     "data": {
      "text/plain": [
       "<matplotlib.collections.PathCollection at 0x2768d34e048>"
      ]
     },
     "execution_count": 1,
     "metadata": {},
     "output_type": "execute_result"
    },
    {
     "data": {
      "image/png": "[encoded data removed]",
      "text/plain": [
       "<Figure size 432x288 with 1 Axes>"
      ]
     },
     "metadata": {
      "needs_background": "light"
     },
     "output_type": "display_data"
    }
   ],
   "source": [
    "import pandas as pn\n",
    "import numpy as np\n",
    "import math\n",
    "import matplotlib.pyplot as plt\n",
    "%matplotlib inline\n",
    "\n",
    "\n",
    "#Reading Data and converting it to numpy array\n",
    "data=pn.read_csv(\"./Data/fish_cost.csv\")\n",
    "data=np.asarray(data)\n",
    "\n",
    "#Separating label - y(Cost in this case) and features - X\n",
    "X=data[:,:data.shape[1]-1]\n",
    "y=data[:,-1:]\n",
    "\n",
    "#Random test data for testing purpose\n",
    "test_X=np.array([[0.8,9.5]])\n",
    "\n",
    "#Plotting the given data and test data in graph for visualization\n",
    "color=['blue' if c >= 500 else 'red' for c in y]\n",
    "plt.scatter(X[:,:1],X[:,1:],c=color)\n",
    "plt.scatter(test_X[:,:1],test_X[:,1:], c = 'black')\n",
    "\n"
   ]
  },
  {
   "cell_type": "markdown",
   "metadata": {},
   "source": [
    "Helper function for sorting"
   ]
  },
  {
   "cell_type": "code",
   "execution_count": 2,
   "metadata": {},
   "outputs": [],
   "source": [
    "def cmp_to_key(mycmp):\n",
    "    'Convert a cmp= function into a key= function'\n",
    "    class K(object):\n",
    "        def __init__(self, obj, *args):\n",
    "            self.obj = obj\n",
    "        def __lt__(self, other):\n",
    "            return mycmp(self.obj, other.obj) < 0\n",
    "        def __gt__(self, other):\n",
    "            return mycmp(self.obj, other.obj) > 0\n",
    "        def __eq__(self, other):\n",
    "            return mycmp(self.obj, other.obj) == 0\n",
    "        def __le__(self, other):\n",
    "            return mycmp(self.obj, other.obj) <= 0  \n",
    "        def __ge__(self, other):\n",
    "            return mycmp(self.obj, other.obj) >= 0\n",
    "        def __ne__(self, other):\n",
    "            return mycmp(self.obj, other.obj) != 0\n",
    "    return K\n",
    "\n",
    "def greater(a,b):\n",
    "        if (a[1] > b[1]):\n",
    "            return 1\n",
    "        return -1"
   ]
  },
  {
   "cell_type": "markdown",
   "metadata": {},
   "source": [
    "### Solving Regression problem with KNN"
   ]
  },
  {
   "cell_type": "code",
   "execution_count": 3,
   "metadata": {},
   "outputs": [
    {
     "data": {
      "text/plain": [
       "733.3333333333334"
      ]
     },
     "execution_count": 3,
     "metadata": {},
     "output_type": "execute_result"
    }
   ],
   "source": [
    "def R_KNN(X,y,test,k):\n",
    "    Dis = []\n",
    "    X.shape\n",
    "    for i in range (0, X.shape[0]):\n",
    "        distance = ((X[i,0] - test[0,0]) ** 2) + ((X[i,1] - test[0,1]) ** 2)\n",
    "        distance = math.sqrt(distance)\n",
    "\n",
    "        Dis.insert(i, [y[i,0], distance])\n",
    "\n",
    "\n",
    "\n",
    "    Dis.sort(key = cmp_to_key(greater))\n",
    "    \n",
    "    avg = 0;\n",
    "    for i in range (0, k):\n",
    "        avg = avg + Dis[i][0]\n",
    "\n",
    "    avg = avg / k\n",
    "    \n",
    "    return avg\n",
    "\n",
    "\n",
    "R_KNN(X,y,test_X,3)"
   ]
  },
  {
   "cell_type": "code",
   "execution_count": null,
   "metadata": {},
   "outputs": [],
   "source": []
  }
 ],
 "metadata": {
  "kernelspec": {
   "display_name": "Python 3",
   "language": "python",
   "name": "python3"
  },
  "language_info": {
   "codemirror_mode": {
    "name": "ipython",
    "version": 3
   },
   "file_extension": ".py",
   "mimetype": "text/x-python",
   "name": "python",
   "nbconvert_exporter": "python",
   "pygments_lexer": "ipython3",
   "version": "3.7.0"
  }
 },
 "nbformat": 4,
 "nbformat_minor": 2
}
