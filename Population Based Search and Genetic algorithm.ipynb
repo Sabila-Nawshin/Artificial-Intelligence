{
 "cells": [
  {
   "cell_type": "markdown",
   "metadata": {},
   "source": [
    "### Helper Functions"
   ]
  },
  {
   "cell_type": "code",
   "execution_count": 5,
   "metadata": {},
   "outputs": [],
   "source": [
    "#headers\n",
    "\n",
    "import numpy as np\n",
    "import math as m\n",
    "import random\n",
    "import copy"
   ]
  },
  {
   "cell_type": "markdown",
   "metadata": {},
   "source": [
    "Common helper function used within the algorithms"
   ]
  },
  {
   "cell_type": "code",
   "execution_count": 6,
   "metadata": {},
   "outputs": [],
   "source": [
    "def isGoal(x):\n",
    "    for i in range(x.shape[0]-1):\n",
    "        for j in range(i+1,x.shape[0]):\n",
    "            if x[i]==x[j]:\n",
    "                #print(\"Column Conflict \"+str(i)+\" \"+str(j))\n",
    "                return False\n",
    "            if abs(i-j) == abs(x[i]-x[j]):\n",
    "                #print(\"Diagonal Conflict \"+str(i)+\" \"+str(j))\n",
    "                return False\n",
    "    return True\n",
    "\n",
    "\n",
    "def quality(x):\n",
    "    cnt = 0\n",
    "    for i in range (x.shape[0] - 1):\n",
    "        for j in range (i + 1, x.shape[0]):\n",
    "            if x[i] == x[j]:\n",
    "                cnt = cnt + 1\n",
    "            if abs(i - j) == abs(x[i] - x[j]):\n",
    "                cnt = cnt + 1\n",
    "    return cnt\n",
    "\n",
    "def generateRandomly(n):\n",
    "    x=np.zeros(n)\n",
    "    for i in range(x.shape[0]):\n",
    "        x[i]=random.randint(0,n-1)\n",
    "    return x\n",
    "\n",
    "def generateRandomNeighbor(s):\n",
    "    sprime=copy.deepcopy(s)\n",
    "    # make some random changes in s\n",
    "    sprime[random.randint(0,s.shape[0]-1)]=random.randint(0,s.shape[0]-1)\n",
    "    return sprime"
   ]
  },
  {
   "cell_type": "markdown",
   "metadata": {},
   "source": [
    "### Population Based Search"
   ]
  },
  {
   "cell_type": "code",
   "execution_count": 8,
   "metadata": {},
   "outputs": [
    {
     "data": {
      "text/plain": [
       "array([2., 0., 3., 1.])"
      ]
     },
     "execution_count": 8,
     "metadata": {},
     "output_type": "execute_result"
    }
   ],
   "source": [
    "def populationBasedSearch(n,maxGen,populationSize):\n",
    "    # initialization\n",
    "    P=[]\n",
    "    for i in range(populationSize):\n",
    "        P.append(generateRandomly(n))\n",
    "    for s in P:\n",
    "        if isGoal(s):\n",
    "            return s\n",
    "    \n",
    "    # now start the algorithm\n",
    "    for i in range(maxGen):\n",
    "        Pprime=[]\n",
    "        # now we have to populate Pprime using P\n",
    "        for s in P:\n",
    "            sprime=generateRandomNeighbor(s)\n",
    "            if quality(sprime) <= quality(s):\n",
    "                Pprime.append(sprime)\n",
    "            else:\n",
    "                Pprime.append(s)\n",
    "        P=Pprime    \n",
    "        for s in P:\n",
    "            if isGoal(s):\n",
    "                return s\n",
    "    return \"Failure\"\n",
    "\n",
    "\n",
    "\n",
    "populationBasedSearch(4,100,10)"
   ]
  },
  {
   "cell_type": "markdown",
   "metadata": {},
   "source": [
    "### Genetic Algorithm\n",
    "\n",
    "    1. Copy all elements from P -> P`                                                      P` = P\n",
    "    2. Perform crossover to randomly selected parents from P and add them to P`            P` = (P + crossovered)\n",
    "    3. Performing Mutation on P to genarate Pc and add to Pprime                           P` = (P + crossovered + Pc)\n",
    "    4. Now sort Pprime and take the best 10 for P"
   ]
  },
  {
   "cell_type": "code",
   "execution_count": 11,
   "metadata": {},
   "outputs": [],
   "source": [
    "#Helper Function for genetic algorithm\n",
    "\n",
    "def crossOver (p1, p2):\n",
    "    c1 = copy.deepcopy(p1)\n",
    "    c2 = copy.deepcopy(p2)\n",
    "    \n",
    "    crossoverPoint = rand.randint(1, p1.shape[0] - 1)\n",
    "    \n",
    "    for i in range (crossoverPoint, p1.shape[0]):\n",
    "        c1[i] = p2[i]\n",
    "        c2[i] = p1[i]\n",
    "    \n",
    "    return [c1, c2]"
   ]
  },
  {
   "cell_type": "code",
   "execution_count": 12,
   "metadata": {},
   "outputs": [
    {
     "data": {
      "text/plain": [
       "array([2., 0., 3., 1.])"
      ]
     },
     "execution_count": 12,
     "metadata": {},
     "output_type": "execute_result"
    }
   ],
   "source": [
    "\n",
    "def GeneticAlgorithm(n,maxGen,populationSize):\n",
    "    P=[]\n",
    "    \n",
    "    #Genarating population P\n",
    "    for i in range(populationSize):\n",
    "        P.append(generateRandomly(n))\n",
    "    for s in P:\n",
    "        if isGoal(s):\n",
    "            return s\n",
    "    \n",
    "    \n",
    "    # now start the algorithm\n",
    "    for i in range(maxGen):\n",
    "        Pprime=[]\n",
    "        \n",
    "        # 1. Copy all elements from P -> P`\n",
    "        Pprime = copy.deepcopy(P)\n",
    "        \n",
    "        \n",
    "        # 2. Perform crossover to randomly selected parents from P and add them to P`\n",
    "        for j  in range (0, len(P)):\n",
    "            r1 = rand.randint(0, len(P) - 1)\n",
    "            \n",
    "            res = crossOver(Pprime[r1], Pprime[j])\n",
    "            \n",
    "            Pprime.append(res[1])\n",
    "            Pprime.append(res[0])\n",
    "            \n",
    "            \n",
    "        \n",
    "        # 3. Performing Mutation on P to genarate Pc and add to Pprime\n",
    "        \n",
    "        for s in Pprime[len(P):]:\n",
    "            sprime = generateRandomNeighbor(s)\n",
    "            \n",
    "            if quality(sprime) <= quality(s):\n",
    "                Pprime.append(sprime)\n",
    "            else:\n",
    "                Pprime.append(s)\n",
    "                \n",
    "                \n",
    "        # 4. Now sort Pprime and take the best 10 for P\n",
    "        Pprime.sort(key = quality, reverse = False)  \n",
    "        \n",
    "        \n",
    "        P = Pprime[:10]\n",
    "        \n",
    "        for s in P:\n",
    "            if isGoal(s):\n",
    "                return s\n",
    "            \n",
    "            \n",
    "    return \"Failure\"\n",
    "\n",
    "\n",
    "GeneticAlgorithm(4,4,10)"
   ]
  },
  {
   "cell_type": "markdown",
   "metadata": {},
   "source": [
    "### Comparisn\n",
    "\n",
    "For graph -  https://pandas.pydata.org/pandas-docs/stable/generated/pandas.DataFrame.plot.bar.html\n",
    "\n",
    "For calculating time - https://pythonhow.com/measure-execution-time-python-code/"
   ]
  },
  {
   "cell_type": "code",
   "execution_count": 13,
   "metadata": {},
   "outputs": [
    {
     "name": "stdout",
     "output_type": "stream",
     "text": [
      "0.004985332489013672\n",
      "0.005984306335449219\n"
     ]
    }
   ],
   "source": [
    "# Showing comparison using ti\n",
    "import time\n",
    "\n",
    "start = time.time()\n",
    "populationBasedSearch(4,100,10)\n",
    "end = time.time()\n",
    "\n",
    "ExecTimeOfP = end - start\n",
    "\n",
    "print(ExecTimeOfP)\n",
    "\n",
    "start = time.time()\n",
    "GeneticAlgorithm(4,100,10)\n",
    "end = time.time()\n",
    "\n",
    "ExecTimeOfG = end - start\n",
    "\n",
    "print(ExecTimeOfG)"
   ]
  },
  {
   "cell_type": "code",
   "execution_count": null,
   "metadata": {},
   "outputs": [],
   "source": []
  }
 ],
 "metadata": {
  "kernelspec": {
   "display_name": "Python 3",
   "language": "python",
   "name": "python3"
  },
  "language_info": {
   "codemirror_mode": {
    "name": "ipython",
    "version": 3
   },
   "file_extension": ".py",
   "mimetype": "text/x-python",
   "name": "python",
   "nbconvert_exporter": "python",
   "pygments_lexer": "ipython3",
   "version": "3.7.0"
  }
 },
 "nbformat": 4,
 "nbformat_minor": 2
}
