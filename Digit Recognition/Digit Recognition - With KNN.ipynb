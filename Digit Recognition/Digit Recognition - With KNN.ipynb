{
 "cells": [
  {
   "cell_type": "markdown",
   "metadata": {},
   "source": [
    "To solve any problem in machine learning, we have to follow some steps.\n",
    "    1. Problem formation\n",
    "    2. Data collection\n",
    "    3. Algorithm/Method selection\n",
    "    4. Evaluate"
   ]
  },
  {
   "cell_type": "code",
   "execution_count": 4,
   "metadata": {},
   "outputs": [],
   "source": [
    "import numpy as np\n",
    "import pandas as pn\n",
    "import math as m\n",
    "import random as rand\n",
    "\n",
    "import matplotlib.pyplot as plt\n",
    "%matplotlib inline"
   ]
  },
  {
   "cell_type": "code",
   "execution_count": 5,
   "metadata": {},
   "outputs": [],
   "source": [
    "X = pn.read_csv(\"X.csv\",header=None)\n"
   ]
  },
  {
   "cell_type": "code",
   "execution_count": 18,
   "metadata": {},
   "outputs": [
    {
     "name": "stdout",
     "output_type": "stream",
     "text": [
      "[[0 0 0 ... 0 0 0]\n",
      " [0 0 0 ... 0 0 0]\n",
      " [0 0 0 ... 0 0 0]\n",
      " ...\n",
      " [0 0 0 ... 0 0 0]\n",
      " [0 0 0 ... 0 0 0]\n",
      " [0 0 0 ... 0 0 0]]\n"
     ]
    }
   ],
   "source": [
    "X = np.asarray(X)\n",
    "print(X)"
   ]
  },
  {
   "cell_type": "code",
   "execution_count": 7,
   "metadata": {},
   "outputs": [],
   "source": [
    "Y = pn.read_csv(\"Y.csv\",header=None)"
   ]
  },
  {
   "cell_type": "code",
   "execution_count": 19,
   "metadata": {},
   "outputs": [
    {
     "name": "stdout",
     "output_type": "stream",
     "text": [
      "[[10]\n",
      " [10]\n",
      " [10]\n",
      " ...\n",
      " [ 9]\n",
      " [ 9]\n",
      " [ 9]]\n"
     ]
    }
   ],
   "source": [
    "Y = np.asarray(Y)\n",
    "\n",
    "Y.shape\n",
    "print(Y)"
   ]
  },
  {
   "cell_type": "code",
   "execution_count": 20,
   "metadata": {},
   "outputs": [],
   "source": [
    "#visualising\n",
    "digit = X[1600 , :]\n",
    "digitm = np.reshape(digit, (20,20) )"
   ]
  },
  {
   "cell_type": "code",
   "execution_count": 10,
   "metadata": {},
   "outputs": [
    {
     "data": {
      "image/png": "[encoded data removed]",
      "text/plain": [
       "<Figure size 432x288 with 2 Axes>"
      ]
     },
     "metadata": {
      "needs_background": "light"
     },
     "output_type": "display_data"
    },
    {
     "name": "stdout",
     "output_type": "stream",
     "text": [
      "1\n"
     ]
    }
   ],
   "source": [
    "import matplotlib.pyplot as plt\n",
    "\n",
    "plt.imshow(( np.reshape( X[1600, :], (20,20) )) .T); #20,20 as the rectangle size is same for all pics now\n",
    "plt.colorbar()\n",
    "plt.show()\n",
    "\n",
    "print(Y[500,0])           #a row from X gives the image, corresponding row from Y gives the label\n"
   ]
  },
  {
   "cell_type": "markdown",
   "metadata": {},
   "source": [
    "### Using KNN to solve the problem"
   ]
  },
  {
   "cell_type": "code",
   "execution_count": 11,
   "metadata": {},
   "outputs": [],
   "source": [
    "def cmp_to_key(mycmp):\n",
    "    'Convert a cmp= function into a key= function'\n",
    "    class K(object):\n",
    "        def __init__(self, obj, *args):\n",
    "            self.obj = obj\n",
    "        def __lt__(self, other):\n",
    "            return mycmp(self.obj, other.obj) < 0\n",
    "        def __gt__(self, other):\n",
    "            return mycmp(self.obj, other.obj) > 0\n",
    "        def __eq__(self, other):\n",
    "            return mycmp(self.obj, other.obj) == 0\n",
    "        def __le__(self, other):\n",
    "            return mycmp(self.obj, other.obj) <= 0  \n",
    "        def __ge__(self, other):\n",
    "            return mycmp(self.obj, other.obj) >= 0\n",
    "        def __ne__(self, other):\n",
    "            return mycmp(self.obj, other.obj) != 0\n",
    "    return K\n",
    "\n",
    "def greater(a,b):\n",
    "    if (a[1] > b[1]):\n",
    "        return 1\n",
    "    return -1"
   ]
  },
  {
   "cell_type": "code",
   "execution_count": 15,
   "metadata": {},
   "outputs": [],
   "source": [
    "\n",
    "def PredictDigitUsingKNN(X,Y,test,k):\n",
    "    Dis = []\n",
    "    \n",
    "    #getting the distance\n",
    "    for i in range (0, X.shape[0]):\n",
    "        distance = (X[i,:] - test) ** 2 \n",
    "        distance = m.sqrt(sum(distance))\n",
    "        \n",
    "        some = [Y[i,0], distance]\n",
    "        Dis.insert(i, some)\n",
    "    \n",
    "    \n",
    "    #sorting for the neighbours\n",
    "    Dis.sort(key = cmp_to_key(greater))\n",
    "    \n",
    "    \n",
    "    #Counting to see which neighbour occures the most\n",
    "    cnt = [0,0,0,0,0,0,0,0,0,0];\n",
    "    \n",
    "    for i in range (0, k):\n",
    "        for j in range (0, 10):\n",
    "            if (Dis[i][0] == j):\n",
    "                cnt[j] = cnt[j] + 1\n",
    "            elif (Dis[i][0] == 10):\n",
    "                cnt[0] = cnt[0] + 1\n",
    "                \n",
    "    #print(cnt)\n",
    "    \n",
    "    maxm = max(cnt)\n",
    "    maxi = 0\n",
    "    \n",
    "    for j in range (0, 10):\n",
    "        if (cnt[j] == maxm):\n",
    "            maxi = j      \n",
    "    \n",
    "    return maxi\n",
    "\n"
   ]
  },
  {
   "cell_type": "code",
   "execution_count": 16,
   "metadata": {},
   "outputs": [
    {
     "data": {
      "image/png": "[encoded data removed]",
      "text/plain": [
       "<Figure size 432x288 with 2 Axes>"
      ]
     },
     "metadata": {
      "needs_background": "light"
     },
     "output_type": "display_data"
    }
   ],
   "source": [
    "test_X = X[3000 , :]\n",
    "plt.imshow(( np.reshape( test_X, (20,20) )) .T); #20,20 as the rectangle size is same for all pics now\n",
    "plt.colorbar()\n",
    "plt.show()\n",
    "\n",
    "\n"
   ]
  },
  {
   "cell_type": "code",
   "execution_count": 17,
   "metadata": {},
   "outputs": [
    {
     "name": "stdout",
     "output_type": "stream",
     "text": [
      "6\n"
     ]
    }
   ],
   "source": [
    "res = PredictDigitUsingKNN(X, \n",
    "                           , test_X, 100)\n",
    "print(res)\n"
   ]
  },
  {
   "cell_type": "code",
   "execution_count": null,
   "metadata": {},
   "outputs": [],
   "source": []
  }
 ],
 "metadata": {
  "kernelspec": {
   "display_name": "Python 3",
   "language": "python",
   "name": "python3"
  },
  "language_info": {
   "codemirror_mode": {
    "name": "ipython",
    "version": 3
   },
   "file_extension": ".py",
   "mimetype": "text/x-python",
   "name": "python",
   "nbconvert_exporter": "python",
   "pygments_lexer": "ipython3",
   "version": "3.7.0"
  }
 },
 "nbformat": 4,
 "nbformat_minor": 2
}
