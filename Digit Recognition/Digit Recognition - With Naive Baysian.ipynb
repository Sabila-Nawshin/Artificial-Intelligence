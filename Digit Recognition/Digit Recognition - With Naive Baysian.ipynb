{
 "cells": [
  {
   "cell_type": "markdown",
   "metadata": {},
   "source": [
    "To solve any problem in machine learning, we have to follow some steps.\n",
    "    1. Problem formation\n",
    "    2. Data collection\n",
    "    3. Algorithm/Method selection\n",
    "    4. Evaluate"
   ]
  },
  {
   "cell_type": "code",
   "execution_count": 2,
   "metadata": {},
   "outputs": [],
   "source": [
    "import numpy as np\n",
    "import pandas as pn\n",
    "import math as m\n",
    "import random as rand\n",
    "\n",
    "import matplotlib.pyplot as plt\n",
    "%matplotlib inline"
   ]
  },
  {
   "cell_type": "code",
   "execution_count": 4,
   "metadata": {},
   "outputs": [],
   "source": [
    "X = pn.read_csv(\"X.csv\",header=None)\n"
   ]
  },
  {
   "cell_type": "code",
   "execution_count": 5,
   "metadata": {},
   "outputs": [
    {
     "data": {
      "text/plain": [
       "(5000, 400)"
      ]
     },
     "execution_count": 5,
     "metadata": {},
     "output_type": "execute_result"
    }
   ],
   "source": [
    "X = np.asarray(X)\n",
    "X.shape"
   ]
  },
  {
   "cell_type": "code",
   "execution_count": 6,
   "metadata": {},
   "outputs": [],
   "source": [
    "Y = pn.read_csv(\"Y.csv\",header=None)"
   ]
  },
  {
   "cell_type": "code",
   "execution_count": 7,
   "metadata": {},
   "outputs": [
    {
     "data": {
      "text/plain": [
       "(5000, 1)"
      ]
     },
     "execution_count": 7,
     "metadata": {},
     "output_type": "execute_result"
    }
   ],
   "source": [
    "Y = np.asarray(Y)\n",
    "Y.shape"
   ]
  },
  {
   "cell_type": "code",
   "execution_count": 8,
   "metadata": {},
   "outputs": [],
   "source": [
    "#visualising\n",
    "digit = X[1600 , :]\n",
    "digitm = np.reshape(digit, (20,20) )"
   ]
  },
  {
   "cell_type": "code",
   "execution_count": 9,
   "metadata": {},
   "outputs": [
    {
     "data": {
      "image/png": "[encoded data removed]",
      "text/plain": [
       "<Figure size 432x288 with 2 Axes>"
      ]
     },
     "metadata": {
      "needs_background": "light"
     },
     "output_type": "display_data"
    },
    {
     "name": "stdout",
     "output_type": "stream",
     "text": [
      "1\n"
     ]
    }
   ],
   "source": [
    "import matplotlib.pyplot as plt\n",
    "\n",
    "plt.imshow(( np.reshape( X[1600, :], (20,20) )) .T); #20,20 as the rectangle size is same for all pics now\n",
    "plt.colorbar()\n",
    "plt.show()\n",
    "\n",
    "print(Y[500,0])           #a row from X gives the image, corresponding row from Y gives the label\n"
   ]
  },
  {
   "cell_type": "markdown",
   "metadata": {},
   "source": [
    "### Using Naive Bayesian to solve the problem"
   ]
  },
  {
   "cell_type": "markdown",
   "metadata": {},
   "source": [
    "When counting the probability, we might face underflow when multiplying 400 variables all less than 1.\n",
    "So we'll ommit the divided by 500's. But in that case we might face overflow. So we'll take the logarithmic value of the probability and use their sum.\n",
    "\n",
    "Steps \n",
    "    1. Calculate probability of C = 1, C = 2...............C = 10\n",
    "    2. Calculate probablbity of the pixels for each digit\n",
    "    3. Find the largest probability"
   ]
  },
  {
   "cell_type": "code",
   "execution_count": 39,
   "metadata": {},
   "outputs": [],
   "source": [
    "\n",
    "def naiveBaysian(X,Y,test):\n",
    "    prob = []\n",
    "\n",
    "    for j in range (1,11):\n",
    "\n",
    "\n",
    "        #Probability of the pixels givel the digit\n",
    "        probability = 0\n",
    "\n",
    "        for i in range (0, X.shape[1]):\n",
    "            \n",
    "            strt = (500 * (j - 1))\n",
    "            end = strt + 500\n",
    "            \n",
    "            cnt = sum(X[strt :end, i])\n",
    "\n",
    "            cnt = cnt + 1\n",
    "\n",
    "            if (test[i] == 0):\n",
    "                cnt = 501 - cnt\n",
    "\n",
    "            probability = probability + m.log10(cnt)    \n",
    "\n",
    "        prob.insert(j, probability)\n",
    "\n",
    "    maxProb = max(prob)\n",
    "    res = 0\n",
    "\n",
    "    for i in range (0, len(prob)):\n",
    "        if (prob[i] == maxProb):\n",
    "            res = i\n",
    "\n",
    "    return res\n",
    "            \n",
    "        \n",
    "    \n",
    "        \n",
    "    "
   ]
  },
  {
   "cell_type": "code",
   "execution_count": 42,
   "metadata": {},
   "outputs": [
    {
     "data": {
      "image/png": "[encoded data removed]",
      "text/plain": [
       "<Figure size 432x288 with 2 Axes>"
      ]
     },
     "metadata": {
      "needs_background": "light"
     },
     "output_type": "display_data"
    },
    {
     "name": "stdout",
     "output_type": "stream",
     "text": [
      "With Naive Baysian: 0\n"
     ]
    }
   ],
   "source": [
    "test_X = X[400 , :]\n",
    "plt.imshow(( np.reshape( test_X, (20,20) )) .T); #20,20 as the rectangle size is same for all pics now\n",
    "plt.colorbar()\n",
    "plt.show()\n",
    "\n",
    "print (\"With Naive Baysian: \", end = \"\")\n",
    "print (naiveBaysian(X,Y,test_X))\n",
    "\n",
    "\n"
   ]
  },
  {
   "cell_type": "code",
   "execution_count": null,
   "metadata": {},
   "outputs": [],
   "source": []
  }
 ],
 "metadata": {
  "kernelspec": {
   "display_name": "Python 3",
   "language": "python",
   "name": "python3"
  },
  "language_info": {
   "codemirror_mode": {
    "name": "ipython",
    "version": 3
   },
   "file_extension": ".py",
   "mimetype": "text/x-python",
   "name": "python",
   "nbconvert_exporter": "python",
   "pygments_lexer": "ipython3",
   "version": "3.7.0"
  }
 },
 "nbformat": 4,
 "nbformat_minor": 2
}
